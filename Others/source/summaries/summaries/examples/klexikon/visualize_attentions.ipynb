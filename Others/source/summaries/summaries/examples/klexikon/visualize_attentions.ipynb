{
 "cells": [
  {
   "cell_type": "code",
   "execution_count": 1,
   "metadata": {},
   "outputs": [],
   "source": [
    "import torch\n",
    "from bertviz import head_view\n",
    "from transformers import MT5TokenizerFast, MT5ForConditionalGeneration\n",
    "from datasets import load_dataset\n",
    "import matplotlib.pyplot as plt\n",
    "import numpy as np\n",
    "\n",
    "from overfit_attention import prepare_text_input\n"
   ]
  },
  {
   "cell_type": "code",
   "execution_count": 2,
   "metadata": {},
   "outputs": [
    {
     "name": "stderr",
     "output_type": "stream",
     "text": [
      "Using custom data configuration dennlinger--klexikon-713c6b3fddad5d3f\n",
      "Reusing dataset json (/home/dennis/.cache/huggingface/datasets/json/dennlinger--klexikon-713c6b3fddad5d3f/0.0.0/c90812beea906fcffe0d5e3bb9eba909a80a998b5f88e9f8acbd320aa91acfde)\n"
     ]
    },
    {
     "data": {
      "application/vnd.jupyter.widget-view+json": {
       "model_id": "4daec5e209bd48bf809338da9ccab12f",
       "version_major": 2,
       "version_minor": 0
      },
      "text/plain": [
       "  0%|          | 0/3 [00:00<?, ?it/s]"
      ]
     },
     "metadata": {},
     "output_type": "display_data"
    },
    {
     "name": "stdout",
     "output_type": "stream",
     "text": [
      "<pad> <extra_id_1> Eine Blume ist der farbige Teil einer Pflanze. <extra_id_1> Eine Blume ist eigentlich eine Blüte. <extra_id_1> In der Blüte bilden sich die Samen. <extra_id_1> Die meisten Blumen brauchen Insekten, welche die Bestäubung übernehmen. <extra_id_1> So können sich dann Samen bilden. <extra_id_1> Die Blumen sind farbig, damit sie die Insekten besser anlocken können. <extra_id_1> Auch die Menschen freuen sich über Blumen. <extra_id_1> Sie haben deshalb Blumen auch gezüchtet, damit sie immer größer und farbiger wurden. <extra_id_1> Dieses Züchten nennt man Kultivierung. <extra_id_1> So wurden zum Beispiel aus Wildrosen die Kulturrosen.</s>\n"
     ]
    }
   ],
   "source": [
    "# Some features are shared among all models\n",
    "shortest_article_ids = [260, 1301, 2088, 665, 1572, 436, 1887, 1422, 1506, 474]\n",
    "\n",
    "dataset = load_dataset(\"dennlinger/klexikon\")\n",
    "tokenizer = MT5TokenizerFast.from_pretrained(\"google/mt5-small\")\n",
    "\n",
    "for idx in shortest_article_ids:\n",
    "    # Load index-specific model\n",
    "    model = MT5ForConditionalGeneration.from_pretrained(f\"./overfit_models/{idx}\")\n",
    "    \n",
    "    sample = dataset[\"train\"][idx]\n",
    "    # Prepare with sensible border tokens. Decoder needs to start with <pad>\n",
    "    wiki_text = f\"<extra_id_0> <extra_id_1> {prepare_text_input(sample['wiki_sentences'], max_sentences=20)}\"\n",
    "    klexikon_text = f\"<pad> <extra_id_1> {prepare_text_input(sample['klexikon_sentences'], max_sentences=10)}\"\n",
    "\n",
    "    # Prepare forward pass\n",
    "    model_inputs = tokenizer(wiki_text, return_tensors=\"pt\")\n",
    "    decoder_inputs = tokenizer(klexikon_text, return_tensors=\"pt\")\n",
    "    model_inputs[\"decoder_input_ids\"] = decoder_inputs[\"input_ids\"]\n",
    "    \n",
    "    result = model(input_ids=model_inputs[\"input_ids\"], attention_mask=model_inputs[\"attention_mask\"],\n",
    "                   decoder_input_ids=model_inputs[\"decoder_input_ids\"], output_attentions=True,\n",
    "                   labels=model_inputs[\"decoder_input_ids\"])\n",
    "    \n",
    "    # Check predicted tokens for sanity check\n",
    "    predicted_ids = torch.argmax(result.logits.detach().to(\"cpu\"), dim=-1)\n",
    "    print(tokenizer.decode(predicted_ids[0]))\n",
    "    \n",
    "    break\n"
   ]
  },
  {
   "cell_type": "code",
   "execution_count": 3,
   "metadata": {},
   "outputs": [
    {
     "data": {
      "text/plain": [
       "8"
      ]
     },
     "execution_count": 3,
     "metadata": {},
     "output_type": "execute_result"
    }
   ],
   "source": [
    "len(result.cross_attentions)"
   ]
  },
  {
   "cell_type": "code",
   "execution_count": 4,
   "metadata": {},
   "outputs": [
    {
     "data": {
      "text/plain": [
       "array([[1.2844999e-02, 2.1518348e-02, 3.9099297e-03, ..., 1.5073516e-03,\n",
       "        6.6308741e-04, 3.4152290e-03],\n",
       "       [3.9111521e-02, 1.1704399e-01, 1.1618050e-02, ..., 1.0278106e-05,\n",
       "        6.1043975e-06, 3.1299084e-02],\n",
       "       [2.6298901e-03, 2.2581459e-03, 1.8237663e-03, ..., 2.4054907e-04,\n",
       "        1.3707250e-03, 1.5791263e-02],\n",
       "       ...,\n",
       "       [2.0526122e-05, 1.3399030e-04, 1.0739495e-03, ..., 5.2930576e-05,\n",
       "        4.8812923e-05, 1.1079816e-02],\n",
       "       [6.6506601e-04, 2.5567508e-03, 4.0200795e-03, ..., 2.2484509e-04,\n",
       "        3.8505404e-03, 7.0969775e-02],\n",
       "       [1.2783408e-04, 2.5167307e-04, 4.4878139e-04, ..., 2.1802123e-05,\n",
       "        3.4806453e-05, 5.7945582e-03]], dtype=float32)"
      ]
     },
     "execution_count": 4,
     "metadata": {},
     "output_type": "execute_result"
    }
   ],
   "source": [
    "result.cross_attentions[0][0,0,:,:].detach().numpy()"
   ]
  },
  {
   "cell_type": "code",
   "execution_count": 5,
   "metadata": {},
   "outputs": [],
   "source": [
    "first_layer = result.cross_attentions[0]"
   ]
  },
  {
   "cell_type": "code",
   "execution_count": 6,
   "metadata": {},
   "outputs": [
    {
     "data": {
      "image/png": "[encoded data removed]",
      "text/plain": [
       "<Figure size 432x288 with 2 Axes>"
      ]
     },
     "metadata": {
      "needs_background": "light"
     },
     "output_type": "display_data"
    }
   ],
   "source": [
    "# Verify plotting works\n",
    "plt.imshow(first_layer[0,0,:10,:50].detach().numpy(), interpolation=\"none\")\n",
    "plt.colorbar()\n",
    "plt.show()"
   ]
  },
  {
   "cell_type": "code",
   "execution_count": 7,
   "metadata": {},
   "outputs": [
    {
     "data": {
      "text/plain": [
       "tensor(1.0000, grad_fn=<AddBackward0>)"
      ]
     },
     "execution_count": 7,
     "metadata": {},
     "output_type": "execute_result"
    }
   ],
   "source": [
    "sum(result.cross_attentions[0][0,0,0,:])"
   ]
  },
  {
   "cell_type": "code",
   "execution_count": 8,
   "metadata": {},
   "outputs": [
    {
     "name": "stdout",
     "output_type": "stream",
     "text": [
      "['▁<extra_id_0>', '▁<extra_id_1>', '▁', 'Eine', '▁Blum', 'e', '▁(', 'von', '▁alt', 'hoch', 'deutsch', '▁blu', 'oma', ',', '▁von', '▁indo', 'german', 'isch', '▁b', 'hlo', ',', '▁\"', 'bl', 'ühen', ',', '▁zum', '▁Vor', 'schein', '▁kommen', '\")', '▁be', 'zeichnet', '▁in', '▁der', '▁Alltag', 's', 'sprache', '▁', 'ent', 'weder', '▁eine', '▁B', 'lüten', 'pflanz', 'e', ',', '▁die', '▁', 'größe', 're', ',', '▁in', 's', '▁Auge', '▁fa', 'llende', '▁B', 'lüten', '▁\"', 'her', 'vor', 'bring', 't', '\",', '▁oder', '▁eine', '▁\"', 'einzel', 'ne', '▁B', 'lüt', 'e', '▁', 'einer', '▁Blum', 'e', '▁mit', '▁S', 'tiel', '\"', '▁oder', '▁wird', '▁als', '▁Kurz', 'form', '▁für', '▁Blumen', 'stock', '▁', 'verwend', 'et', '.', '▁<extra_id_1>', '▁Sie', '▁', 'dient', '▁of', 't', '▁als', '▁Schmuck', ',', '▁z', '.', '▁B', '.', '▁als', '▁Schnitt', 'blu', 'me', '▁in', '▁', 'einem', '▁Blumen', 'stra', 'uß', ',', '▁als', '▁Blumen', 'kran', 'z', '▁oder', '▁Blumen', 'ge', 'binde', '.', '▁<extra_id_1>', '▁In', '▁der', '▁Bild', 'enden', '▁Kunst', '▁sind', '▁Blumen', '▁als', '▁', 'floral', 'es', '▁Motiv', '▁ein', '▁hä', 'ufig', '▁dar', 'gestellt', 'es', '▁', 'Thema', '.', '▁<extra_id_1>', '▁In', '▁der', '▁Botan', 'ik', '▁ist', '▁der', '▁B', 'egriff', '▁Blum', 'e', '▁da', 'gegen', '▁klar', '▁defini', 'ert', '▁und', '▁wird', '▁in', 's', 'besonder', 'e', '▁vom', '▁B', 'egriff', '▁B', 'lüt', 'e', '▁ge', 'trenn', 't', '.', '▁<extra_id_1>', '▁Wä', 'hrend', '▁die', '▁Blum', 'e', '▁(', 'als', '▁Einzel', 'b', 'lüt', 'e', '▁oder', '▁B', 'lüten', 'stand', ')', '▁über', '▁', 'ihre', '▁Funktion', '▁bei', '▁der', '▁B', 'estä', 'ubung', '▁defini', 'ert', '▁ist', ',', '▁ist', '▁eine', '▁B', 'lüt', 'e', '▁(', 'als', '▁gest', 'auch', 'ter', '▁S', 'pros', 's', '▁mit', '▁meta', 'morpho', 's', 'ierten', '▁B', 'lätter', 'n', ')', '▁ein', '▁durch', '▁die', '▁', 'Morph', 'ologie', '▁', 'einde', 'utig', '▁defin', 'ierter', '▁B', 'egriff', '.', '▁<extra_id_1>', '▁', 'Eine', '▁Blum', 'e', '▁ist', '▁die', '▁be', 'stä', 'ubung', 's', 'b', 'iologische', '▁', 'Einheit', '▁der', '▁B', 'lüten', 'pflanzen', '.', '▁<extra_id_1>', '▁Es', '▁ist', '▁', 'ihre', '▁', 'Aufgabe', ',', '▁B', 'estä', 'uber', '▁anzu', 'locken', ',', '▁oder', '▁sie', '▁', 'bildet', '▁eine', '▁', 'technisch', '-', 'funktion', 'elle', '▁', 'Einheit', '.', '▁<extra_id_1>', '▁Blum', 'e', '▁ist', '▁also', '▁ein', '▁öko', 'logisch', '-', 'funktion', 'al', '▁defin', 'ierter', '▁B', 'egriff', '.', '▁<extra_id_1>', '▁So', '▁werden', '▁von', '▁T', 'ieren', '▁be', 'stä', 'ub', 'te', '▁Blumen', '▁nach', '▁', 'i', 'hren', '▁B', 'estä', 'ubern', '▁einge', 'teilt', ',', '▁', 'etwa', '▁die', '▁Vogel', 'blumen', '▁oder', '▁die', '▁Kä', 'fer', 'blumen', '.', '▁<extra_id_1>', '▁', 'Eine', '▁B', 'lüt', 'e', '▁wird', '▁als', '▁S', 'pros', 's', '▁', 'begren', 'zten', '▁Wachstum', 's', '▁im', '▁', 'Dienste', '▁der', '▁', 'sexuell', 'en', '▁Verme', 'hrung', '▁defini', 'ert', '.', '▁<extra_id_1>', '▁', 'Ihr', '▁', 'Aufbau', '▁ist', '▁klar', '▁ge', 'glieder', 't', '▁in', '▁B', 'lüten', 'hülle', ',', '▁Staub', 'blätter', '▁und', '▁Frucht', 'blätter', '.', '▁<extra_id_1>', '▁Tul', 'pen', '-', '▁oder', '▁Rosen', 'b', 'lüten', '▁sind', '▁hier', 'für', '▁', 'gute', '▁Beispiel', 'e', '.', '▁<extra_id_1>', '▁D', 'abei', '▁m', 'üssen', '▁sie', '▁kein', 'es', 'wegs', '▁auf', 'fällig', '▁ge', 'baut', '▁oder', '▁', 'gefä', 'rbt', '▁sein', ';', '▁', 'auch', '▁Grä', 'ser', '▁be', 'sitzen', '▁B', 'lüten', '.', '▁<extra_id_1>', '▁Nach', '▁der', '▁Gestalt', '▁der', '▁Blumen', '▁werden', '▁v', 'erschieden', 'e', '▁Blumen', 'typen', '▁', 'unterschied', 'en', '.', '▁<extra_id_1>', '▁Der', '▁Blumen', 'typ', '▁', 'steht', '▁da', 'bei', '▁in', '▁', 'enger', '▁Verbindung', '▁zum', '▁jew', 'eiligen', '▁B', 'estä', 'uber', ':', '▁<extra_id_1>', '▁Ent', 'sprechend', '▁der', '▁A', 'npassung', '▁an', '▁die', '▁B', 'estä', 'uber', '▁', 'bilden', '▁die', '▁Blumen', '▁Merk', 'mals', 'syndrome', ',', '▁die', '▁als', '▁Blumen', 'stile', '▁be', 'zeichnet', '▁werden', '.', '▁<extra_id_1>', '▁Sie', '▁werden', '▁unter', '▁den', '▁', 'einzel', 'nen', '▁B', 'estä', 'ubung', 's', 'formen', '▁näh', 'er', '▁be', 'sprochen', '.', '▁<extra_id_1>', '▁Beispiel', 'e', '▁sind', '▁Vogel', 'blumen', ',', '▁Bien', 'en', 'blumen', '.', '▁<extra_id_1>', '▁Die', '▁', 'größ', 'te', '▁Blum', 'e', '▁der', '▁Erde', '▁wird', '▁von', '▁der', '▁Titan', 'en', 'wur', 'z', '▁(', 'A', 'morpho', 'pha', 'llus', '▁titan', 'um', ')', '▁ge', 'bildet', '▁und', '▁wird', '▁über', '▁zwei', '▁Meter', '▁hoch', ',', '▁die', '▁', 'größ', 'te', '▁B', 'lüt', 'e', '▁der', '▁Erde', '▁(', 'R', 'affle', 'sia', '▁', 'arno', 'ldi', 'i', ')', '▁wird', '▁da', 'gegen', '▁von', '▁', 'einer', '▁Pflanzen', 'art', '▁der', '▁Familie', '▁der', '▁Raff', 'lesi', 'enge', 'w', 'ächs', 'e', '▁ge', 'bildet', '▁und', '▁wird', '▁', 'etwa', '▁', 'einen', '▁Meter', '▁', 'breit', '.', '</s>']\n"
     ]
    }
   ],
   "source": [
    "subwords_input = tokenizer.convert_ids_to_tokens(model_inputs[\"input_ids\"][0])\n",
    "print(subwords_input)"
   ]
  },
  {
   "cell_type": "code",
   "execution_count": 9,
   "metadata": {},
   "outputs": [
    {
     "name": "stdout",
     "output_type": "stream",
     "text": [
      "['<pad>', '▁<extra_id_1>', '▁', 'Eine', '▁Blum', 'e', '▁ist', '▁der', '▁', 'farbig', 'e', '▁Teil', '▁', 'einer', '▁Pflanze', '.', '▁<extra_id_1>', '▁', 'Eine', '▁Blum', 'e', '▁ist', '▁eigen', 'tlich', '▁eine', '▁B', 'lüt', 'e', '.', '▁<extra_id_1>', '▁In', '▁der', '▁B', 'lüt', 'e', '▁', 'bilden', '▁sich', '▁die', '▁', 'Samen', '.', '▁<extra_id_1>', '▁Die', '▁meist', 'en', '▁Blumen', '▁', 'brauche', 'n', '▁In', 's', 'ekten', ',', '▁wel', 'che', '▁die', '▁B', 'estä', 'ubung', '▁über', 'nehmen', '.', '▁<extra_id_1>', '▁So', '▁können', '▁sich', '▁dann', '▁', 'Samen', '▁', 'bilden', '.', '▁<extra_id_1>', '▁Die', '▁Blumen', '▁sind', '▁', 'farbig', ',', '▁dami', 't', '▁sie', '▁die', '▁In', 's', 'ekten', '▁', 'besser', '▁an', 'locken', '▁können', '.', '▁<extra_id_1>', '▁', 'Auch', '▁die', '▁Menschen', '▁freu', 'en', '▁sich', '▁über', '▁Blumen', '.', '▁<extra_id_1>', '▁Sie', '▁haben', '▁des', 'halb', '▁Blumen', '▁', 'auch', '▁gez', 'üchte', 't', ',', '▁dami', 't', '▁sie', '▁immer', '▁', 'größe', 'r', '▁und', '▁', 'farbig', 'er', '▁wurde', 'n', '.', '▁<extra_id_1>', '▁Diese', 's', '▁Zü', 'chten', '▁', 'nen', 'nt', '▁man', '▁Kul', 'tiv', 'ierung', '.', '▁<extra_id_1>', '▁So', '▁wurde', 'n', '▁zum', '▁Beispiel', '▁aus', '▁Wild', 'ros', 'en', '▁die', '▁Kultur', 'ros', 'en', '.', '</s>']\n"
     ]
    }
   ],
   "source": [
    "subwords_output = tokenizer.convert_ids_to_tokens(decoder_inputs[\"input_ids\"][0])\n",
    "print(subwords_output)"
   ]
  },
  {
   "cell_type": "code",
   "execution_count": 10,
   "metadata": {},
   "outputs": [],
   "source": [
    "def get_relevant_indices(subword_tokens, sentence_separator=\"<extra_id_1>\"):\n",
    "    \"\"\"\n",
    "    Assumes the input is padded with <extra_id_0>/<pad> and another <extra_id_1>.\n",
    "    Also assumes <extra_id_1> as separators\n",
    "    \"\"\"\n",
    "    return [idx for idx, subword in enumerate(subword_tokens) if sentence_separator in subword] + [len(subword_tokens) - 1]\n",
    "\n",
    "def aggregate_matrix_into_sentence_based(attn_matrix, in_indices, out_indices):\n",
    "    res = np.zeros([len(in_indices) - 1, len(out_indices) - 1])\n",
    "    \n",
    "    for i in range(res.shape[0]):\n",
    "        for j in range(res.shape[1]):\n",
    "            res[i, j] = np.sum(attn_matrix[0, 0, out_indices[j]:out_indices[j+1], in_indices[i]:in_indices[i+1]])\n",
    "    \n",
    "    return res"
   ]
  },
  {
   "cell_type": "code",
   "execution_count": 11,
   "metadata": {
    "scrolled": true
   },
   "outputs": [
    {
     "name": "stdout",
     "output_type": "stream",
     "text": [
      "[1, 92, 125, 147, 179, 245, 265, 292, 308, 340, 368, 389, 405, 433, 449, 468, 495, 513, 524, 604]\n",
      "[1, 16, 29, 42, 63, 73, 93, 104, 130, 143, 158]\n"
     ]
    }
   ],
   "source": [
    "input_indices = get_relevant_indices(subwords_input)\n",
    "print(input_indices)\n",
    "output_indices = get_relevant_indices(subwords_output)\n",
    "print(output_indices)"
   ]
  },
  {
   "cell_type": "code",
   "execution_count": 60,
   "metadata": {},
   "outputs": [],
   "source": [
    "# first_layer = first_layer.detach().numpy()\n",
    "# all_layers = np.concatenate([layer.detach().numpy() for layer in result.cross_attentions], axis=0)\n",
    "last_layers = np.concatenate([layer.detach().numpy() for layer in result.cross_attentions[-1:]], axis=0)"
   ]
  },
  {
   "cell_type": "code",
   "execution_count": 61,
   "metadata": {},
   "outputs": [
    {
     "data": {
      "text/plain": [
       "(1, 1, 159, 605)"
      ]
     },
     "execution_count": 61,
     "metadata": {},
     "output_type": "execute_result"
    }
   ],
   "source": [
    "all_layers = last_layers[:, 2:3, :, :]\n",
    "all_layers.shape"
   ]
  },
  {
   "cell_type": "code",
   "execution_count": 62,
   "metadata": {},
   "outputs": [
    {
     "name": "stdout",
     "output_type": "stream",
     "text": [
      "[[2.17751908 1.67349648 1.87928009 2.98358846 1.47779834 2.91602135\n",
      "  1.76805377 4.428298   1.87299562 2.23171854]\n",
      " [0.43039858 0.49987692 0.42346793 0.62148035 0.33782685 0.6046502\n",
      "  0.34467649 0.72687912 0.4193731  0.33621463]\n",
      " [0.37370834 0.29381114 0.2752544  0.43119597 0.25582522 0.49955171\n",
      "  0.2567102  0.6142962  0.38014275 0.41069543]\n",
      " [0.9373256  0.98587328 0.64050233 0.91401756 0.47440317 0.86599427\n",
      "  0.37211788 1.02441502 0.68887442 0.74354208]\n",
      " [2.02510595 2.19879627 1.66544759 2.59642911 1.04005146 2.07077885\n",
      "  0.94247401 2.80840445 1.65408123 1.85560548]\n",
      " [0.62097061 0.72639179 0.47342545 0.78969175 0.24661759 0.47792834\n",
      "  0.22467268 0.49768457 0.39940837 0.37083265]\n",
      " [0.16283366 0.21035539 0.19519018 0.34923744 0.15949672 0.2558009\n",
      "  0.17321719 0.32502818 0.23877002 0.17617859]\n",
      " [0.79259288 1.03370774 0.5497086  0.79966462 0.24556215 0.55241942\n",
      "  0.23859124 0.56760943 0.44259751 0.53018779]\n",
      " [0.51110131 0.37678874 0.43976486 1.00897813 0.33397114 1.04826117\n",
      "  0.60160011 1.36391068 0.50799668 0.47230175]\n",
      " [0.38088703 0.46079093 0.38383555 0.59087753 0.30060753 0.57547426\n",
      "  0.29579473 0.65990663 0.42766446 0.45854634]\n",
      " [0.55180538 0.40603408 0.40951449 0.65055311 0.30590075 0.69480926\n",
      "  0.34614456 0.83068693 0.42510134 0.38721541]\n",
      " [0.4765293  0.30752242 0.30773711 0.5987196  0.26222441 0.70355272\n",
      "  0.32929426 0.71631014 0.38090664 0.37540394]\n",
      " [0.40429556 0.35284817 0.38652915 0.77567732 0.59278029 1.05232203\n",
      "  0.45349011 1.15823722 0.50596017 0.4113487 ]\n",
      " [0.3923516  0.28456637 0.29629415 0.48545894 0.23927803 0.56239367\n",
      "  0.27104685 0.71311522 0.28655702 0.27590913]\n",
      " [0.3035613  0.26463962 0.22476178 0.41772515 0.22351724 0.30581892\n",
      "  0.14782508 0.37323219 0.32907695 0.2928822 ]\n",
      " [0.76846147 0.61402762 0.7441414  1.29424512 0.57778847 1.2740171\n",
      "  0.71920496 1.57715368 0.76765656 0.96092308]\n",
      " [0.22756568 0.17178175 0.23335603 0.47129047 0.20542525 0.32718277\n",
      "  0.15643626 0.37699562 0.23105076 0.22284669]\n",
      " [0.32352543 0.21368919 0.21530013 0.44997412 0.14993888 0.5062815\n",
      "  0.28795761 0.60108155 0.24761108 0.34114558]\n",
      " [1.72395158 1.25748301 2.16514421 3.92732143 1.56850815 3.53241444\n",
      "  2.42089367 4.77564526 2.1671679  3.87523127]]\n"
     ]
    }
   ],
   "source": [
    "sentence_attentions = aggregate_matrix_into_sentence_based(all_layers, input_indices, output_indices)\n",
    "print(sentence_attentions)"
   ]
  },
  {
   "cell_type": "code",
   "execution_count": 63,
   "metadata": {},
   "outputs": [
    {
     "data": {
      "text/plain": [
       "13.584490329027176"
      ]
     },
     "execution_count": 63,
     "metadata": {},
     "output_type": "execute_result"
    }
   ],
   "source": [
    "sentence_attentions[:, 0].sum()"
   ]
  },
  {
   "cell_type": "code",
   "execution_count": 64,
   "metadata": {},
   "outputs": [
    {
     "data": {
      "text/plain": [
       "(19, 10)"
      ]
     },
     "execution_count": 64,
     "metadata": {},
     "output_type": "execute_result"
    }
   ],
   "source": [
    "sentence_attentions.shape"
   ]
  },
  {
   "cell_type": "code",
   "execution_count": 65,
   "metadata": {},
   "outputs": [
    {
     "name": "stdout",
     "output_type": "stream",
     "text": [
      "[[0.1602945  0.13569828 0.15780792 0.1480239  0.16424504 0.154896\n",
      "  0.17082312 0.18345077 0.15137774 0.15152146]\n",
      " [0.03168309 0.04053336 0.03555968 0.03083332 0.03754666 0.03211838\n",
      "  0.03330143 0.03011237 0.03389423 0.02282713]\n",
      " [0.02750993 0.02382417 0.02311381 0.0213928  0.02843285 0.02653566\n",
      "  0.02480243 0.0254484  0.03072359 0.02788397]\n",
      " [0.06899969 0.0799412  0.05378461 0.04534689 0.05272598 0.04600071\n",
      "  0.03595272 0.04243836 0.05567565 0.05048243]\n",
      " [0.14907486 0.1782931  0.13985186 0.12881588 0.1155931  0.1099976\n",
      "  0.09105852 0.11634356 0.13368482 0.12598544]\n",
      " [0.04571173 0.0589007  0.03975474 0.03917875 0.0274095  0.02538705\n",
      "  0.02170708 0.02061754 0.03228066 0.0251775 ]\n",
      " [0.01198673 0.01705702 0.01639061 0.01732662 0.01772674 0.01358788\n",
      "  0.01673563 0.01346492 0.01929768 0.01196156]\n",
      " [0.05834543 0.08381993 0.04616043 0.03967353 0.0272922  0.02934394\n",
      "  0.02305184 0.02351431 0.03577126 0.03599685]\n",
      " [0.03762389 0.03055255 0.03692817 0.05005814 0.03711813 0.05568253\n",
      "  0.05812448 0.05650263 0.0410569  0.0320667 ]\n",
      " [0.02803837 0.03736401 0.03223164 0.02931503 0.03341004 0.03056859\n",
      "  0.02857864 0.0273379  0.03456435 0.03113278]\n",
      " [0.04062025 0.03292396 0.03438797 0.0322757  0.03399833 0.03690754\n",
      "  0.03344327 0.03441281 0.0343572  0.0262898 ]\n",
      " [0.03507892 0.02493597 0.02584147 0.0297041  0.02914407 0.03737198\n",
      "  0.03181525 0.02967453 0.03078533 0.02548787]\n",
      " [0.02976156 0.02861129 0.03245783 0.03848345 0.06588262 0.05589824\n",
      "  0.04381462 0.04798221 0.0408923  0.02792832]\n",
      " [0.02888232 0.02307454 0.02488057 0.02408493 0.02659377 0.02987376\n",
      "  0.02618759 0.02954217 0.02315988 0.01873272]\n",
      " [0.02234617 0.02145875 0.01887382 0.02072448 0.02484209 0.01624478\n",
      "  0.01428234 0.01546186 0.02659639 0.0198851 ]\n",
      " [0.05656903 0.04978946 0.06248744 0.06421101 0.0642164  0.06767445\n",
      "  0.06948705 0.06533663 0.06204292 0.06524141]\n",
      " [0.01675187 0.01392921 0.0195955  0.023382   0.02283131 0.01737961\n",
      "  0.01511432 0.01561777 0.0186738  0.01513007]\n",
      " [0.02381579 0.01732735 0.0180793  0.02232443 0.01666446 0.02689314\n",
      "  0.02782145 0.02490096 0.02001222 0.02316191]\n",
      " [0.12690587 0.10196513 0.18181265 0.19484505 0.17432669 0.18763815\n",
      "  0.23389821 0.1978403  0.17515309 0.26310697]]\n"
     ]
    }
   ],
   "source": [
    "normalized_sentence_attentions = sentence_attentions / np.sum(sentence_attentions, axis=0)[None, :]\n",
    "print(normalized_sentence_attentions)"
   ]
  },
  {
   "cell_type": "code",
   "execution_count": 66,
   "metadata": {},
   "outputs": [
    {
     "data": {
      "image/png": "[encoded data removed]",
      "text/plain": [
       "<Figure size 432x288 with 2 Axes>"
      ]
     },
     "metadata": {
      "needs_background": "light"
     },
     "output_type": "display_data"
    }
   ],
   "source": [
    "plt.imshow(normalized_sentence_attentions, interpolation=\"none\")\n",
    "plt.colorbar()\n",
    "plt.show()"
   ]
  },
  {
   "cell_type": "code",
   "execution_count": 67,
   "metadata": {},
   "outputs": [
    {
     "data": {
      "text/plain": [
       "(8, 6, 159, 605)"
      ]
     },
     "execution_count": 67,
     "metadata": {},
     "output_type": "execute_result"
    }
   ],
   "source": [
    "np.concatenate([layer.detach().numpy() for layer in result.cross_attentions], axis=0).shape"
   ]
  },
  {
   "cell_type": "code",
   "execution_count": 68,
   "metadata": {},
   "outputs": [
    {
     "name": "stdout",
     "output_type": "stream",
     "text": [
      "0\n",
      "0\n",
      "Eine Blume (von althochdeutsch bluoma, von indogermanisch bhlo, \"blühen, zum Vorschein kommen\") bezeichnet in der Alltagssprache entweder eine Blütenpflanze, die größere, ins Auge fallende Blüten \"hervorbringt\", oder eine \"einzelne Blüte einer Blume mit Stiel\" oder wird als Kurzform für Blumenstock verwendet.\n",
      "1\n",
      "4\n",
      "Während die Blume (als Einzelblüte oder Blütenstand) über ihre Funktion bei der Bestäubung definiert ist, ist eine Blüte (als gestauchter Spross mit metamorphosierten Blättern) ein durch die Morphologie eindeutig definierter Begriff.\n",
      "2\n",
      "18\n",
      "Die größte Blume der Erde wird von der Titanenwurz (Amorphophallus titanum) gebildet und wird über zwei Meter hoch, die größte Blüte der Erde (Rafflesia arnoldii) wird dagegen von einer Pflanzenart der Familie der Rafflesiengewächse gebildet und wird etwa einen Meter breit.\n",
      "3\n",
      "18\n",
      "Die größte Blume der Erde wird von der Titanenwurz (Amorphophallus titanum) gebildet und wird über zwei Meter hoch, die größte Blüte der Erde (Rafflesia arnoldii) wird dagegen von einer Pflanzenart der Familie der Rafflesiengewächse gebildet und wird etwa einen Meter breit.\n",
      "4\n",
      "18\n",
      "Die größte Blume der Erde wird von der Titanenwurz (Amorphophallus titanum) gebildet und wird über zwei Meter hoch, die größte Blüte der Erde (Rafflesia arnoldii) wird dagegen von einer Pflanzenart der Familie der Rafflesiengewächse gebildet und wird etwa einen Meter breit.\n",
      "5\n",
      "18\n",
      "Die größte Blume der Erde wird von der Titanenwurz (Amorphophallus titanum) gebildet und wird über zwei Meter hoch, die größte Blüte der Erde (Rafflesia arnoldii) wird dagegen von einer Pflanzenart der Familie der Rafflesiengewächse gebildet und wird etwa einen Meter breit.\n",
      "6\n",
      "18\n",
      "Die größte Blume der Erde wird von der Titanenwurz (Amorphophallus titanum) gebildet und wird über zwei Meter hoch, die größte Blüte der Erde (Rafflesia arnoldii) wird dagegen von einer Pflanzenart der Familie der Rafflesiengewächse gebildet und wird etwa einen Meter breit.\n",
      "7\n",
      "18\n",
      "Die größte Blume der Erde wird von der Titanenwurz (Amorphophallus titanum) gebildet und wird über zwei Meter hoch, die größte Blüte der Erde (Rafflesia arnoldii) wird dagegen von einer Pflanzenart der Familie der Rafflesiengewächse gebildet und wird etwa einen Meter breit.\n",
      "8\n",
      "18\n",
      "Die größte Blume der Erde wird von der Titanenwurz (Amorphophallus titanum) gebildet und wird über zwei Meter hoch, die größte Blüte der Erde (Rafflesia arnoldii) wird dagegen von einer Pflanzenart der Familie der Rafflesiengewächse gebildet und wird etwa einen Meter breit.\n",
      "9\n",
      "18\n",
      "Die größte Blume der Erde wird von der Titanenwurz (Amorphophallus titanum) gebildet und wird über zwei Meter hoch, die größte Blüte der Erde (Rafflesia arnoldii) wird dagegen von einer Pflanzenart der Familie der Rafflesiengewächse gebildet und wird etwa einen Meter breit.\n"
     ]
    }
   ],
   "source": [
    "clean_text = [line.strip(\"\\n \") for line in sample['wiki_sentences'] if line.strip(\"\\n \") and not line.startswith(\"=\")]\n",
    "\n",
    "for col in range(normalized_sentence_attentions.shape[1]):\n",
    "    print(col)\n",
    "    print(np.argmax(normalized_sentence_attentions[:, col]))\n",
    "    print(clean_text[np.argmax(normalized_sentence_attentions[:, col])])"
   ]
  },
  {
   "cell_type": "code",
   "execution_count": null,
   "metadata": {},
   "outputs": [],
   "source": []
  },
  {
   "cell_type": "code",
   "execution_count": null,
   "metadata": {},
   "outputs": [],
   "source": []
  }
 ],
 "metadata": {
  "kernelspec": {
   "display_name": "Python 3 (ipykernel)",
   "language": "python",
   "name": "python3"
  },
  "language_info": {
   "codemirror_mode": {
    "name": "ipython",
    "version": 3
   },
   "file_extension": ".py",
   "mimetype": "text/x-python",
   "name": "python",
   "nbconvert_exporter": "python",
   "pygments_lexer": "ipython3",
   "version": "3.9.7"
  }
 },
 "nbformat": 4,
 "nbformat_minor": 1
}
